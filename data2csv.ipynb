{
 "cells": [
  {
   "cell_type": "code",
   "execution_count": 1,
   "metadata": {},
   "outputs": [],
   "source": [
    "import csv\n",
    "import numpy as np\n",
    "import pandas as pd\n",
    "from tqdm import tqdm\n",
    "import utils.samplefiles"
   ]
  },
  {
   "cell_type": "code",
   "execution_count": 2,
   "metadata": {},
   "outputs": [],
   "source": [
    "train_wnum = 2500\n",
    "train_nnum = 2500\n",
    "test_wnum = 250\n",
    "test_nnum = 250"
   ]
  },
  {
   "cell_type": "code",
   "execution_count": 3,
   "metadata": {},
   "outputs": [],
   "source": [
    "data = utils.samplefiles.SampleFile()\n",
    "data.read_hdf('./output/data1.1.hdf')"
   ]
  },
  {
   "cell_type": "code",
   "execution_count": 4,
   "metadata": {},
   "outputs": [],
   "source": [
    "wave, noise = data.as_dataframe(injection_parameters=True, \n",
    "                  static_arguments=False, \n",
    "                  command_line_arguments=False, \n",
    "                  split_injections_noise=True)"
   ]
  },
  {
   "cell_type": "markdown",
   "metadata": {},
   "source": [
    "Turn strain into multi-dimension array"
   ]
  },
  {
   "cell_type": "code",
   "execution_count": 5,
   "metadata": {},
   "outputs": [],
   "source": [
    "h1w = wave['h1_strain'].tolist()\n",
    "h1n = noise['h1_strain'].tolist()\n",
    "wary = np.array(h1w)\n",
    "nary = np.array(h1n)"
   ]
  },
  {
   "cell_type": "markdown",
   "metadata": {},
   "source": [
    "Split train and test set"
   ]
  },
  {
   "cell_type": "code",
   "execution_count": 6,
   "metadata": {},
   "outputs": [],
   "source": [
    "df = pd.DataFrame(wary)\n",
    "df.dropna(how='all')\n",
    "df.dropna(axis='columns',how='all')\n",
    "wary = np.array(df)"
   ]
  },
  {
   "cell_type": "code",
   "execution_count": 7,
   "metadata": {},
   "outputs": [],
   "source": [
    "wtrain = wary[:train_wnum,:]\n",
    "ntrain = nary[:train_nnum,:]\n",
    "wtest = wary[train_wnum:,:]\n",
    "ntest = nary[train_nnum:,:]"
   ]
  },
  {
   "cell_type": "markdown",
   "metadata": {},
   "source": [
    "Insert label"
   ]
  },
  {
   "cell_type": "code",
   "execution_count": 8,
   "metadata": {},
   "outputs": [],
   "source": [
    "wtrain = np.insert(wtrain, 0, values=1, axis=1)\n",
    "ntrain = np.insert(ntrain, 0, values=0, axis=1)\n",
    "wtest = np.insert(wtest, 0, values=1, axis=1)\n",
    "ntest = np.insert(ntest, 0, values=0, axis=1)"
   ]
  },
  {
   "cell_type": "markdown",
   "metadata": {},
   "source": [
    "Training set name"
   ]
  },
  {
   "cell_type": "code",
   "execution_count": 9,
   "metadata": {},
   "outputs": [
    {
     "name": "stderr",
     "output_type": "stream",
     "text": [
      "100%|██████████| 4096/4096 [00:00<00:00, 726114.50it/s]\n"
     ]
    }
   ],
   "source": [
    "train_name = []\n",
    "num = 4096\n",
    "train_name.append('label')\n",
    "for i in tqdm(range(0,num)):\n",
    "    train_name.append('point{s1}'.format(s1=i))"
   ]
  },
  {
   "cell_type": "code",
   "execution_count": 10,
   "metadata": {},
   "outputs": [
    {
     "name": "stderr",
     "output_type": "stream",
     "text": [
      "100%|██████████| 2500/2500 [00:07<00:00, 345.39it/s]\n"
     ]
    }
   ],
   "source": [
    "with open(\"/home/iris/Desktop/GW&ML/improved-gwcnn-master/ggwd/output/train.csv\",\"w\") as csvfile: \n",
    "    writer = csv.writer(csvfile)\n",
    "    #columns_name\n",
    "    writer.writerow(train_name)\n",
    "    #use writerows to write lines\n",
    "    for i in tqdm(range(0,train_wnum)):\n",
    "        writer.writerow(wtrain[i])\n",
    "        writer.writerow(ntrain[i])"
   ]
  },
  {
   "cell_type": "markdown",
   "metadata": {},
   "source": [
    "testing set name"
   ]
  },
  {
   "cell_type": "code",
   "execution_count": 11,
   "metadata": {},
   "outputs": [
    {
     "name": "stderr",
     "output_type": "stream",
     "text": [
      "100%|██████████| 4096/4096 [00:00<00:00, 540519.42it/s]\n"
     ]
    }
   ],
   "source": [
    "test_name = []\n",
    "num = 4096\n",
    "test_name.append('label')\n",
    "for i in tqdm(range(0,num)):\n",
    "    test_name.append('point{s1}'.format(s1=i))"
   ]
  },
  {
   "cell_type": "code",
   "execution_count": 12,
   "metadata": {},
   "outputs": [
    {
     "name": "stderr",
     "output_type": "stream",
     "text": [
      "100%|██████████| 250/250 [00:00<00:00, 412.19it/s]\n"
     ]
    }
   ],
   "source": [
    "with open(\"/home/iris/Desktop/GW&ML/improved-gwcnn-master/ggwd/output/test.csv\",\"w\") as csvfile: \n",
    "    writer = csv.writer(csvfile)\n",
    "    #columns_name\n",
    "    writer.writerow(test_name)\n",
    "    #use writerows to write lines\n",
    "    for i in tqdm(range(0,test_wnum)):\n",
    "        writer.writerow(wtest[i])\n",
    "        writer.writerow(ntest[i])"
   ]
  },
  {
   "cell_type": "code",
   "execution_count": null,
   "metadata": {},
   "outputs": [],
   "source": []
  },
  {
   "cell_type": "code",
   "execution_count": null,
   "metadata": {},
   "outputs": [],
   "source": []
  }
 ],
 "metadata": {
  "kernelspec": {
   "display_name": "Python 2",
   "language": "python",
   "name": "python2"
  },
  "language_info": {
   "codemirror_mode": {
    "name": "ipython",
    "version": 2
   },
   "file_extension": ".py",
   "mimetype": "text/x-python",
   "name": "python",
   "nbconvert_exporter": "python",
   "pygments_lexer": "ipython2",
   "version": "2.7.18"
  }
 },
 "nbformat": 4,
 "nbformat_minor": 2
}
