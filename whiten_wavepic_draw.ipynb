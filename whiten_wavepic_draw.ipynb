{
 "cells": [
  {
   "cell_type": "code",
   "execution_count": 93,
   "metadata": {},
   "outputs": [],
   "source": [
    "import sys\n",
    "import time\n",
    "import numpy as np\n",
    "import pandas as pd\n",
    "import utils.samplefiles\n",
    "\n",
    "import matplotlib\n",
    "import matplotlib.pyplot as plt"
   ]
  },
  {
   "cell_type": "code",
   "execution_count": 94,
   "metadata": {},
   "outputs": [],
   "source": [
    "# Start the stopwatch\n",
    "script_start_time = time.time()"
   ]
  },
  {
   "cell_type": "code",
   "execution_count": 95,
   "metadata": {},
   "outputs": [],
   "source": [
    "hdf_file_path = './output/data1.1.hdf'\n",
    "plot_path = './img/data1.1.png'\n",
    "# which sample is used to shown\n",
    "sample_id = 249"
   ]
  },
  {
   "cell_type": "code",
   "execution_count": 96,
   "metadata": {
    "scrolled": false
   },
   "outputs": [],
   "source": [
    "data = utils.samplefiles.SampleFile()\n",
    "data.read_hdf(hdf_file_path)"
   ]
  },
  {
   "cell_type": "code",
   "execution_count": 97,
   "metadata": {},
   "outputs": [],
   "source": [
    "# when split_injections_noise is set to be True, GWs contain signals and pure waves are splited\n",
    "df, noise = data.as_dataframe(injection_parameters=True, \n",
    "                  static_arguments=True, \n",
    "                  command_line_arguments=False, \n",
    "                  split_injections_noise=True)"
   ]
  },
  {
   "cell_type": "code",
   "execution_count": 98,
   "metadata": {},
   "outputs": [
    {
     "name": "stdout",
     "output_type": "stream",
     "text": [
      "Index([                  u'approximant',                u'bandpass_lower',\n",
      "                      u'bandpass_upper',                     u'coa_phase',\n",
      "                                 u'dec',                       u'delta_f',\n",
      "                             u'delta_t',                      u'distance',\n",
      "                              u'domain',                    u'event_time',\n",
      "                             u'f_lower',                     u'fd_length',\n",
      "                    u'h1_output_signal',                     u'h1_signal',\n",
      "                              u'h1_snr',                     u'h1_strain',\n",
      "                         u'inclination',                 u'injection_snr',\n",
      "                    u'l1_output_signal',                     u'l1_signal',\n",
      "                              u'l1_snr',                     u'l1_strain',\n",
      "                               u'mass1',                         u'mass2',\n",
      "                u'noise_interval_width',        u'original_sampling_rate',\n",
      "                        u'polarization',                            u'ra',\n",
      "                       u'sample_length',                  u'scale_factor',\n",
      "                 u'seconds_after_event',          u'seconds_before_event',\n",
      "                              u'spin1z',                        u'spin2z',\n",
      "                u'target_sampling_rate',                     u'td_length',\n",
      "                         u'tukey_alpha',               u'waveform_length',\n",
      "       u'whitening_max_filter_duration',    u'whitening_segment_duration'],\n",
      "      dtype='object')\n"
     ]
    }
   ],
   "source": [
    "print(df.columns)"
   ]
  },
  {
   "cell_type": "code",
   "execution_count": 99,
   "metadata": {},
   "outputs": [
    {
     "name": "stdout",
     "output_type": "stream",
     "text": [
      "7.312118997956996\n"
     ]
    }
   ],
   "source": [
    "print(df.injection_snr[sample_id])"
   ]
  },
  {
   "cell_type": "code",
   "execution_count": 100,
   "metadata": {},
   "outputs": [
    {
     "name": "stdout",
     "output_type": "stream",
     "text": [
      "48.0487002779792\n",
      "73.45304776751829\n",
      "0.0\n",
      "0.0\n",
      "0.010820990282000302\n"
     ]
    }
   ],
   "source": [
    "print(df.mass1[sample_id])\n",
    "print(df.mass2[sample_id])\n",
    "print(df.spin1z[sample_id])\n",
    "print(df.spin2z[sample_id])\n",
    "print(df.scale_factor[sample_id])"
   ]
  },
  {
   "cell_type": "code",
   "execution_count": 101,
   "metadata": {},
   "outputs": [
    {
     "name": "stdout",
     "output_type": "stream",
     "text": [
      "0.0\n",
      "0.0\n",
      "0.0\n",
      "0.0\n",
      "0.0\n"
     ]
    }
   ],
   "source": [
    "print(df.coa_phase[sample_id])\n",
    "print(df.inclination[sample_id])\n",
    "print(df.ra[sample_id])\n",
    "print(df.dec[sample_id])\n",
    "print(df.polarization[sample_id])"
   ]
  },
  {
   "cell_type": "code",
   "execution_count": 102,
   "metadata": {},
   "outputs": [],
   "source": [
    "sample = df.loc[sample_id]"
   ]
  },
  {
   "cell_type": "code",
   "execution_count": 103,
   "metadata": {},
   "outputs": [
    {
     "name": "stdout",
     "output_type": "stream",
     "text": [
      "0.5\n",
      "4096.0\n",
      "1.0\n"
     ]
    }
   ],
   "source": [
    "# Read out and construct some necessary values for plotting\n",
    "seconds_before_event = float(sample['seconds_before_event'])\n",
    "seconds_after_event = float(sample['seconds_after_event'])\n",
    "target_sampling_rate = float(sample['target_sampling_rate'])\n",
    "sample_length = float(sample['sample_length'])\n",
    "print(seconds_before_event)\n",
    "print(target_sampling_rate)\n",
    "print(sample_length)"
   ]
  },
  {
   "cell_type": "code",
   "execution_count": 104,
   "metadata": {},
   "outputs": [],
   "source": [
    "# Create a grid on which the sample can be plotted so that the\n",
    "# event_time is at position 0\n",
    "grid = np.linspace(0 - seconds_before_event, 0 + seconds_after_event, int(target_sampling_rate * sample_length))\n",
    "\n",
    "# for time from -0.15s to 0.05s\n",
    "#grid = np.linspace(0 - seconds_before_event, 0 + seconds_after_event, int(target_sampling_rate * sample_length)+1)"
   ]
  },
  {
   "cell_type": "code",
   "execution_count": 105,
   "metadata": {},
   "outputs": [],
   "source": [
    "det_name = 'H1'\n",
    "det_string = 'h1_strain'"
   ]
  },
  {
   "cell_type": "code",
   "execution_count": 106,
   "metadata": {},
   "outputs": [
    {
     "name": "stdout",
     "output_type": "stream",
     "text": [
      "167.45425\n"
     ]
    }
   ],
   "source": [
    "maximum = np.max(sample[det_string])\n",
    "print(maximum)"
   ]
  },
  {
   "cell_type": "code",
   "execution_count": 107,
   "metadata": {},
   "outputs": [
    {
     "name": "stdout",
     "output_type": "stream",
     "text": [
      "1.1015172360294991e-20\n"
     ]
    }
   ],
   "source": [
    "maximum = max(np.max(sample['h1_signal']), np.max(sample['l1_signal']))\n",
    "print(maximum)"
   ]
  },
  {
   "cell_type": "code",
   "execution_count": 108,
   "metadata": {},
   "outputs": [
    {
     "name": "stdout",
     "output_type": "stream",
     "text": [
      "30.57667110709697\n"
     ]
    }
   ],
   "source": [
    "maximum = max(np.max(sample['h1_output_signal']), np.max(sample['l1_output_signal']))\n",
    "print(maximum)"
   ]
  },
  {
   "cell_type": "code",
   "execution_count": 109,
   "metadata": {},
   "outputs": [
    {
     "data": {
      "image/png": "[encoded data removed]",
      "text/plain": [
       "<Figure size 648x432 with 1 Axes>"
      ]
     },
     "metadata": {},
     "output_type": "display_data"
    }
   ],
   "source": [
    "plt.plot(grid, sample[det_string], color='C0',label = 'strain')\n",
    "plt.plot(grid, sample['h1_output_signal'], color='C1',label = 'signal')\n",
    "#plt.xlim(-1.5, 0.5)\n",
    "#plt.ylim(-150, 150)\n",
    "plt.xticks(fontsize=14)\n",
    "plt.yticks(fontsize=14)\n",
    "plt.ylabel('Whitened Strain and Signal ({})'\n",
    "                        .format(det_name), fontsize=15)\n",
    "plt.xlabel('Time (s)', fontsize=15)\n",
    "plt.legend(fontsize=15)\n",
    "\n",
    "# Adjust the size and spacing of the subplots\n",
    "plt.gcf().set_size_inches(9, 6, forward=True)\n",
    "plt.tight_layout(rect=[0, 0, 1, 0.9])\n",
    "plt.subplots_adjust(wspace=0, hspace=0)\n",
    "\n",
    "# plt.show()\n",
    "plt.savefig(plot_path)"
   ]
  },
  {
   "cell_type": "code",
   "execution_count": null,
   "metadata": {},
   "outputs": [],
   "source": []
  },
  {
   "cell_type": "code",
   "execution_count": null,
   "metadata": {},
   "outputs": [],
   "source": []
  }
 ],
 "metadata": {
  "kernelspec": {
   "display_name": "Python 2",
   "language": "python",
   "name": "python2"
  },
  "language_info": {
   "codemirror_mode": {
    "name": "ipython",
    "version": 2
   },
   "file_extension": ".py",
   "mimetype": "text/x-python",
   "name": "python",
   "nbconvert_exporter": "python",
   "pygments_lexer": "ipython2",
   "version": "2.7.18"
  }
 },
 "nbformat": 4,
 "nbformat_minor": 2
}
