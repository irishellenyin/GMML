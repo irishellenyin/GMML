{
 "cells": [
  {
   "cell_type": "markdown",
   "metadata": {},
   "source": [
    "## 1. PyCBC Tutorial: Accessing the Catalog of Binary Mergers and LIGO/Virgo Open Data\n",
    "\n",
    "We will be using the [PyCBC](http://github.com/ligo-cbc/pycbc) library, which is used to study gravitational-wave data, find astrophysical sources due to compact binary mergers, and study their parameters. These are some of the same tools that the LIGO and Virgo collaborations use to find gravitational waves in LIGO/Virgo data \n",
    "\n",
    "In this tutorial we will walk through how to get information about the catalog of binary mergers programmatically, and also how to read in detector strain data around each event, or from the full open data set released for LIGO's first observing run.\n",
    "\n",
    "Additional [examples](http://pycbc.org/pycbc/latest/html/#library-examples-and-interactive-tutorials) and module level documentation are [here](http://pycbc.org/pycbc/latest/html/py-modindex.html)"
   ]
  },
  {
   "cell_type": "markdown",
   "metadata": {},
   "source": [
    "#### Getting the software environment setup\n",
    "\n",
    "PyCBC is installable through pip, but also relies on portions of the [LALSuite](https://git.ligo.org/lscsoft/lalsuite) c-library. A bundled version of this suitable for use with PyCBC is also available on Mac / Linux through pip. These can be installed as follows within the notebook."
   ]
  },
  {
   "cell_type": "code",
   "execution_count": 4,
   "metadata": {},
   "outputs": [
    {
     "name": "stdout",
     "output_type": "stream",
     "text": [
      "Collecting pycbc\n",
      "  Downloading PyCBC-1.18.3-cp36-cp36m-manylinux2010_x86_64.whl (6.7 MB)\n",
      "\u001b[K     |████████████████████████████████| 6.7 MB 966 kB/s eta 0:00:01\n",
      "\u001b[?25hCollecting ligo-common\n",
      "  Downloading ligo_common-1.0.3-py2.py3-none-any.whl (2.0 kB)\n",
      "Requirement already satisfied: numpy!=1.19.0,>=1.16.0 in /home/iris/anaconda3/envs/pytorch1121/lib/python3.6/site-packages (from pycbc) (1.19.2)\n",
      "Collecting ligo-segments\n",
      "  Downloading ligo-segments-1.4.0.tar.gz (51 kB)\n",
      "\u001b[K     |████████████████████████████████| 51 kB 8.7 MB/s eta 0:00:011\n",
      "\u001b[?25hCollecting Mako>=1.0.1\n",
      "  Downloading Mako-1.1.6-py2.py3-none-any.whl (75 kB)\n",
      "\u001b[K     |████████████████████████████████| 75 kB 7.9 MB/s eta 0:00:01\n",
      "\u001b[?25hRequirement already satisfied: decorator>=3.4.2 in /home/iris/anaconda3/envs/pytorch1121/lib/python3.6/site-packages (from pycbc) (5.1.1)\n",
      "Collecting beautifulsoup4>=4.6.0\n",
      "  Downloading beautifulsoup4-4.11.1-py3-none-any.whl (128 kB)\n",
      "\u001b[K     |████████████████████████████████| 128 kB 8.5 MB/s eta 0:00:01\n",
      "\u001b[?25hCollecting matplotlib>=1.5.1\n",
      "  Downloading matplotlib-3.3.4-cp36-cp36m-manylinux1_x86_64.whl (11.5 MB)\n",
      "\u001b[K     |████████████████████████████████| 11.5 MB 4.2 MB/s eta 0:00:01\n",
      "\u001b[?25hCollecting requests>=1.2.1\n",
      "  Downloading requests-2.27.1-py2.py3-none-any.whl (63 kB)\n",
      "\u001b[K     |████████████████████████████████| 63 kB 2.0 MB/s eta 0:00:011\n",
      "\u001b[?25hCollecting scipy>=0.16.0\n",
      "  Downloading scipy-1.5.4-cp36-cp36m-manylinux1_x86_64.whl (25.9 MB)\n",
      "\u001b[K     |████████████████████████████████| 25.9 MB 29.3 MB/s eta 0:00:01\n",
      "\u001b[?25hCollecting mpld3>=0.3\n",
      "  Downloading mpld3-0.5.8-py3-none-any.whl (201 kB)\n",
      "\u001b[K     |████████████████████████████████| 201 kB 28.4 MB/s eta 0:00:01\n",
      "\u001b[?25hRequirement already satisfied: six>=1.10.0 in /home/iris/anaconda3/envs/pytorch1121/lib/python3.6/site-packages (from pycbc) (1.16.0)\n",
      "Requirement already satisfied: pillow in /home/iris/anaconda3/envs/pytorch1121/lib/python3.6/site-packages (from pycbc) (8.3.1)\n",
      "Collecting cython>=0.29\n",
      "  Downloading Cython-0.29.32-cp36-cp36m-manylinux_2_17_x86_64.manylinux2014_x86_64.manylinux_2_24_x86_64.whl (2.0 MB)\n",
      "\u001b[K     |████████████████████████████████| 2.0 MB 34.4 MB/s eta 0:00:01\n",
      "\u001b[?25hCollecting lscsoft-glue>=1.59.3\n",
      "  Downloading lscsoft-glue-3.0.1.tar.gz (1.4 MB)\n",
      "\u001b[K     |████████████████████████████████| 1.4 MB 29.1 MB/s eta 0:00:01\n",
      "\u001b[?25h  Installing build dependencies ... \u001b[?25ldone\n",
      "\u001b[?25h  Getting requirements to build wheel ... \u001b[?25ldone\n",
      "\u001b[?25h    Preparing wheel metadata ... \u001b[?25ldone\n",
      "\u001b[?25hRequirement already satisfied: jinja2 in /home/iris/anaconda3/envs/pytorch1121/lib/python3.6/site-packages (from pycbc) (3.0.3)\n",
      "Collecting tqdm\n",
      "  Downloading tqdm-4.64.1-py2.py3-none-any.whl (78 kB)\n",
      "\u001b[K     |████████████████████████████████| 78 kB 24.1 MB/s eta 0:00:01\n",
      "\u001b[?25hCollecting astropy!=4.0.5,!=4.2.1,>=2.0.3\n",
      "  Downloading astropy-4.1-cp36-cp36m-manylinux1_x86_64.whl (10.3 MB)\n",
      "\u001b[K     |████████████████████████████████| 10.3 MB 19.7 MB/s eta 0:00:01\n",
      "\u001b[?25hCollecting h5py<=3.1.0,>=2.5\n",
      "  Downloading h5py-3.1.0-cp36-cp36m-manylinux1_x86_64.whl (4.0 MB)\n",
      "\u001b[K     |████████████████████████████████| 4.0 MB 44.2 MB/s eta 0:00:01\n",
      "\u001b[?25hCollecting gwdatafind\n",
      "  Downloading gwdatafind-1.1.2-py3-none-any.whl (45 kB)\n",
      "\u001b[K     |████████████████████████████████| 45 kB 32.2 MB/s eta 0:00:01\n",
      "\u001b[?25hCollecting lalsuite\n",
      "  Downloading lalsuite-7.0-cp36-cp36m-manylinux_2_17_x86_64.manylinux2014_x86_64.whl (27.6 MB)\n",
      "\u001b[K     |████████████████████████████████| 27.6 MB 25.3 MB/s eta 0:00:01\n",
      "\u001b[?25hCollecting soupsieve>1.2\n",
      "  Downloading soupsieve-2.3.2.post1-py3-none-any.whl (37 kB)\n",
      "Collecting cached-property\n",
      "  Downloading cached_property-1.5.2-py2.py3-none-any.whl (7.6 kB)\n",
      "Collecting pyOpenSSL\n",
      "  Downloading pyOpenSSL-22.1.0-py3-none-any.whl (57 kB)\n",
      "\u001b[K     |████████████████████████████████| 57 kB 52.9 MB/s eta 0:00:01\n",
      "\u001b[?25hCollecting pyRXP\n",
      "  Downloading pyRXP-3.0.1-cp36-cp36m-manylinux_2_12_x86_64.manylinux2010_x86_64.whl (294 kB)\n",
      "\u001b[K     |████████████████████████████████| 294 kB 20.5 MB/s eta 0:00:01\n",
      "\u001b[?25hRequirement already satisfied: MarkupSafe>=0.9.2 in /home/iris/anaconda3/envs/pytorch1121/lib/python3.6/site-packages (from Mako>=1.0.1->pycbc) (2.0.1)\n",
      "Collecting cycler>=0.10\n",
      "  Downloading cycler-0.11.0-py3-none-any.whl (6.4 kB)\n",
      "Collecting kiwisolver>=1.0.1\n",
      "  Downloading kiwisolver-1.3.1-cp36-cp36m-manylinux1_x86_64.whl (1.1 MB)\n",
      "\u001b[K     |████████████████████████████████| 1.1 MB 20.7 MB/s eta 0:00:01\n",
      "\u001b[?25hRequirement already satisfied: python-dateutil>=2.1 in /home/iris/anaconda3/envs/pytorch1121/lib/python3.6/site-packages (from matplotlib>=1.5.1->pycbc) (2.8.2)\n",
      "Requirement already satisfied: pyparsing!=2.0.4,!=2.1.2,!=2.1.6,>=2.0.3 in /home/iris/anaconda3/envs/pytorch1121/lib/python3.6/site-packages (from matplotlib>=1.5.1->pycbc) (3.0.4)\n",
      "Collecting urllib3<1.27,>=1.21.1\n",
      "  Downloading urllib3-1.26.12-py2.py3-none-any.whl (140 kB)\n",
      "\u001b[K     |████████████████████████████████| 140 kB 23.3 MB/s eta 0:00:01\n",
      "\u001b[?25hCollecting idna<4,>=2.5\n",
      "  Downloading idna-3.4-py3-none-any.whl (61 kB)\n",
      "\u001b[K     |████████████████████████████████| 61 kB 3.9 MB/s  eta 0:00:01\n",
      "\u001b[?25hRequirement already satisfied: certifi>=2017.4.17 in /home/iris/anaconda3/envs/pytorch1121/lib/python3.6/site-packages (from requests>=1.2.1->pycbc) (2021.5.30)\n",
      "Collecting charset-normalizer~=2.0.0\n",
      "  Downloading charset_normalizer-2.0.12-py3-none-any.whl (39 kB)\n",
      "Collecting igwn-auth-utils>=0.3.1\n",
      "  Downloading igwn_auth_utils-0.3.1-py3-none-any.whl (21 kB)\n",
      "Collecting cryptography>=2.3\n",
      "  Downloading cryptography-38.0.1-cp36-abi3-manylinux_2_28_x86_64.whl (4.2 MB)\n",
      "\u001b[K     |████████████████████████████████| 4.2 MB 20.8 MB/s eta 0:00:01\n",
      "\u001b[?25hCollecting scitokens>=1.7.0\n",
      "  Downloading scitokens-1.7.0-py3-none-any.whl (23 kB)\n",
      "Collecting safe-netrc>=1.0.0\n",
      "  Downloading safe_netrc-1.0.0-py2.py3-none-any.whl (11 kB)\n",
      "Requirement already satisfied: cffi>=1.12 in /home/iris/anaconda3/envs/pytorch1121/lib/python3.6/site-packages (from cryptography>=2.3->igwn-auth-utils>=0.3.1->gwdatafind->pycbc) (1.14.6)\n",
      "Requirement already satisfied: pycparser in /home/iris/anaconda3/envs/pytorch1121/lib/python3.6/site-packages (from cffi>=1.12->cryptography>=2.3->igwn-auth-utils>=0.3.1->gwdatafind->pycbc) (2.21)\n",
      "Collecting PyJWT>=1.6.1\n",
      "  Downloading PyJWT-2.4.0-py3-none-any.whl (18 kB)\n",
      "Collecting importlib-resources\n",
      "  Downloading importlib_resources-5.4.0-py3-none-any.whl (28 kB)\n",
      "Collecting zipp>=3.1.0\n",
      "  Downloading zipp-3.6.0-py3-none-any.whl (5.3 kB)\n",
      "Building wheels for collected packages: lscsoft-glue, ligo-segments\n",
      "  Building wheel for lscsoft-glue (PEP 517) ... \u001b[?25ldone\n",
      "\u001b[?25h  Created wheel for lscsoft-glue: filename=lscsoft_glue-3.0.1-cp36-cp36m-linux_x86_64.whl size=260511 sha256=0822c55389a5b57f8bd7aa2aa3d6f56b757eab6631f320d4d86dce882e3cfb77\n",
      "  Stored in directory: /tmp/pip-ephem-wheel-cache-p1sk1787/wheels/cb/8c/93/75205d09f9389a158a37dee932dddf9bfd498570e7cc241b83\n",
      "  Building wheel for ligo-segments (setup.py) ... \u001b[?25ldone\n",
      "\u001b[?25h  Created wheel for ligo-segments: filename=ligo_segments-1.4.0-cp36-cp36m-linux_x86_64.whl size=98308 sha256=12052ec2e95c7c89d0866adb4649c5a0a13dc87a3a4cf93177a53d0b7c372ece\n",
      "  Stored in directory: /tmp/pip-ephem-wheel-cache-p1sk1787/wheels/c9/e6/7e/55c1d557be2f03d73b8cdc7d23029f3d223d778ff9ac891bcc\n",
      "Successfully built lscsoft-glue ligo-segments\n",
      "Installing collected packages: urllib3, PyJWT, idna, cryptography, charset-normalizer, zipp, scitokens, safe-netrc, requests, pyRXP, pyOpenSSL, ligo-segments, kiwisolver, cycler, soupsieve, scipy, matplotlib, lscsoft-glue, importlib-resources, igwn-auth-utils, cached-property, tqdm, mpld3, Mako, lalsuite, h5py, gwdatafind, cython, beautifulsoup4, astropy, pycbc, ligo-common\n",
      "Successfully installed Mako-1.1.6 PyJWT-2.4.0 astropy-4.1 beautifulsoup4-4.11.1 cached-property-1.5.2 charset-normalizer-2.0.12 cryptography-38.0.1 cycler-0.11.0 cython-0.29.32 gwdatafind-1.1.2 h5py-3.1.0 idna-3.4 igwn-auth-utils-0.3.1 importlib-resources-5.4.0 kiwisolver-1.3.1 lalsuite-7.0 ligo-common-1.0.3 ligo-segments-1.4.0 lscsoft-glue-3.0.1 matplotlib-3.3.4 mpld3-0.5.8 pyOpenSSL-22.1.0 pyRXP-3.0.1 pycbc-1.18.3 requests-2.27.1 safe-netrc-1.0.0 scipy-1.5.4 scitokens-1.7.0 soupsieve-2.3.2.post1 tqdm-4.64.1 urllib3-1.26.12 zipp-3.6.0\n"
     ]
    }
   ],
   "source": [
    "import sys\n",
    "!{sys.executable} -m pip install pycbc ligo-common --no-cache-dir"
   ]
  },
  {
   "cell_type": "markdown",
   "metadata": {},
   "source": [
    "### 1.1 Catalog of Binary Mergers\n",
    "\n",
    "PyCBC provides an [API](http://pycbc.org/pycbc/latest/html/catalog.html) to look at the catalog of binary mergers a few examples below. Some key information, such as the 'chirp' mass of a binary merge can be retrieved."
   ]
  },
  {
   "cell_type": "markdown",
   "metadata": {},
   "source": [
    "#### What binary mergers are in the catalog? ####"
   ]
  },
  {
   "cell_type": "code",
   "execution_count": 5,
   "metadata": {},
   "outputs": [
    {
     "name": "stdout",
     "output_type": "stream",
     "text": [
      "GW150914-v3\n",
      "GW151012-v3\n",
      "GW151226-v2\n",
      "GW170104-v2\n",
      "GW170608-v3\n",
      "GW170729-v1\n",
      "GW170809-v1\n",
      "GW170814-v3\n",
      "GW170817-v3\n",
      "GW170818-v1\n",
      "GW170823-v1\n"
     ]
    }
   ],
   "source": [
    "from pycbc import catalog\n",
    "\n",
    "### List the mergers in the catalog\n",
    "for merger_name in catalog.Catalog():\n",
    "    print(merger_name)"
   ]
  },
  {
   "cell_type": "markdown",
   "metadata": {},
   "source": [
    "#### How can I get parameters? ####\n",
    "\n",
    "One can also retrieve some of the basic parameters of each source\n",
    "from the catalog directly as follows. Note that all parameters are given\n",
    "in the *source* frame. This means that they include the effect of redshift."
   ]
  },
  {
   "cell_type": "code",
   "execution_count": 6,
   "metadata": {},
   "outputs": [
    {
     "name": "stdout",
     "output_type": "stream",
     "text": [
      "[28.6   15.2    8.9   21.4    7.9   35.4   24.9   24.1    1.186 26.5\n",
      " 29.2  ]\n",
      "GW170817: 1.186\n",
      "dict_keys(['GPS', 'catalog.shortName', 'chi_eff', 'chi_eff_lower', 'chi_eff_unit', 'chi_eff_upper', 'chirp_mass', 'chirp_mass_lower', 'chirp_mass_source', 'chirp_mass_source_lower', 'chirp_mass_source_unit', 'chirp_mass_source_upper', 'chirp_mass_unit', 'chirp_mass_upper', 'commonName', 'far', 'far_lower', 'far_unit', 'far_upper', 'final_mass_source', 'final_mass_source_lower', 'final_mass_source_unit', 'final_mass_source_upper', 'jsonurl', 'luminosity_distance', 'luminosity_distance_lower', 'luminosity_distance_unit', 'luminosity_distance_upper', 'mass_1_source', 'mass_1_source_lower', 'mass_1_source_unit', 'mass_1_source_upper', 'mass_2_source', 'mass_2_source_lower', 'mass_2_source_unit', 'mass_2_source_upper', 'network_matched_filter_snr', 'network_matched_filter_snr_lower', 'network_matched_filter_snr_unit', 'network_matched_filter_snr_upper', 'p_astro', 'p_astro_lower', 'p_astro_unit', 'p_astro_upper', 'redshift', 'redshift_lower', 'redshift_unit', 'redshift_upper', 'reference', 'strain', 'total_mass_source', 'total_mass_source_lower', 'total_mass_source_unit', 'total_mass_source_upper', 'version'])\n"
     ]
    }
   ],
   "source": [
    "# Either from the catalog as a whole\n",
    "c = catalog.Catalog()\n",
    "mchirp = c.median1d('mchirp')\n",
    "print(mchirp)\n",
    "\n",
    "# or from a specific merger\n",
    "m = catalog.Merger(\"GW170817\")\n",
    "mchirp_gw170817 = m.median1d('mchirp')\n",
    "print('GW170817: {}'.format(mchirp_gw170817))\n",
    "\n",
    "# print parameters that can be read\n",
    "print(m.data.keys())"
   ]
  },
  {
   "cell_type": "markdown",
   "metadata": {},
   "source": [
    "#### Transform Mass Parameters into the Detector Frame\n",
    "\n",
    "By default the above interface returns parameters in the *source* frame. Due to cosmological redshift, gravitational-waves are stretched as they travel. This causes the observed waveform to be different in the detector frame. This corresponds to an observed change in the mass parameters (for example). However, the relationship is fairly straighforward."
   ]
  },
  {
   "cell_type": "code",
   "execution_count": 7,
   "metadata": {},
   "outputs": [
    {
     "name": "stdout",
     "output_type": "stream",
     "text": [
      "Chirp Mass of GW150914\n",
      "Source Frame: 28.6 Solar Masses\n",
      "Detector Frame: 31.174000000000003 Solar Masses\n"
     ]
    }
   ],
   "source": [
    "m = catalog.Merger('GW150914')\n",
    "source_mchirp = m.median1d('mchirp')\n",
    "redshift = m.median1d('redshift')\n",
    "det_mchirp = source_mchirp * (1 + redshift)\n",
    "\n",
    "print('Chirp Mass of GW150914')\n",
    "print('Source Frame: {} Solar Masses'.format(source_mchirp))\n",
    "print('Detector Frame: {} Solar Masses'.format(det_mchirp))"
   ]
  },
  {
   "cell_type": "markdown",
   "metadata": {},
   "source": [
    "### 1.2 Accessing LIGO/Virgo data\n",
    "\n",
    "In this section, we will look into how to read detector data from the LIGO and Virgo instruments using the PyCBC API. It is possible to both get data around specific events, and also from the full data sets which have been released which cover the S5/S6/O1 LIGO observing runs. Data will be returned as [pycbc TimeSeries objects.](http://pycbc.org/pycbc/latest/html/pycbc.types.html#pycbc.types.timeseries.TimeSeries)"
   ]
  },
  {
   "cell_type": "markdown",
   "metadata": {},
   "source": [
    "#### Getting Data Around  Specific Binary Merger in the Catalog\n",
    "\n",
    "One can directly retrieve data around a specific event. Typically this data is centered on the event, though restrictions may apply which have not allowed this. This method by default gets the smallest version of the dataset. If additional data or specific versions are required, please see the following two additional ways to access data."
   ]
  },
  {
   "cell_type": "code",
   "execution_count": 8,
   "metadata": {},
   "outputs": [
    {
     "name": "stderr",
     "output_type": "stream",
     "text": [
      "/home/iris/anaconda3/envs/pytorch1121/lib/python3.6/site-packages/jwt/utils.py:7: CryptographyDeprecationWarning: Python 3.6 is no longer supported by the Python core team. Therefore, support for it is deprecated in cryptography and will be removed in a future release.\n",
      "  from cryptography.hazmat.primitives.asymmetric.ec import EllipticCurve\n"
     ]
    },
    {
     "name": "stdout",
     "output_type": "stream",
     "text": [
      "Duration: 32.0s Start: 1126259447 End: 1126259479\n"
     ]
    },
    {
     "data": {
      "image/png": "[encoded data removed]",
      "text/plain": [
       "<Figure size 432x288 with 1 Axes>"
      ]
     },
     "metadata": {
      "needs_background": "light"
     },
     "output_type": "display_data"
    }
   ],
   "source": [
    "%matplotlib inline\n",
    "\n",
    "import pylab\n",
    "\n",
    "m = catalog.Merger(\"GW150914\")\n",
    "\n",
    "# Get the time series data around GW150914 from Hanford\n",
    "# 'ts_han' is a pycbc.types.TimeSeries object which contains\n",
    "# gravitational-wave strain in this instance and has metadata\n",
    "# such as the start time, and sample rate.\n",
    "ts_han = m.strain('H1')\n",
    "\n",
    "# And now livingston\n",
    "ts_liv = m.strain('L1')\n",
    "\n",
    "# We can see how much data was returned and its boundaries\n",
    "# Note: All times are given in seconds since the GPS time epoch\n",
    "print(\"Duration: {}s Start: {} End: {}\".format(ts_han.duration, \n",
    "                                              int(ts_han.start_time),\n",
    "                                              int(ts_han.end_time)))\n",
    "\n",
    "# We can directly plot the time series as follows\n",
    "pylab.plot(ts_han.sample_times, ts_han)\n",
    "pylab.ylabel('Strain')\n",
    "pylab.xlabel('Time (s)')\n",
    "pylab.show()"
   ]
  },
  {
   "cell_type": "markdown",
   "metadata": {},
   "source": [
    "#### Getting Data from S5 / S6 / O1\n",
    "\n",
    "In this section we show how to read data from the bulk data release by LIGO. This currently covers the periods of teh S5, S6, and O1 analyses."
   ]
  },
  {
   "cell_type": "code",
   "execution_count": 11,
   "metadata": {},
   "outputs": [
    {
     "name": "stdout",
     "output_type": "stream",
     "text": [
      "Returned 64.0s of data at 4096.0Hz\n"
     ]
    }
   ],
   "source": [
    "from pycbc.frame import query_and_read_frame\n",
    "\n",
    "# Retrieve the approximate time of the merger\n",
    "m = catalog.Merger(\"GW150914\")\n",
    "start = m.time - 32\n",
    "end = m.time + 32\n",
    "\n",
    "# Get 64 seconds of data roughly around GW150914\n",
    "# The start / end time may be any in the publicly available data sets.\n",
    "ts = query_and_read_frame('LOSC', 'H1:LOSC-STRAIN', start, end)\n",
    "\n",
    "# If we wanted to retreive data from the Livingston detector\n",
    "# we'd use the following command instead\n",
    "# ts = query_and_read_frame('LOSC', 'L1:LOSC-STRAIN', start, end)\n",
    "\n",
    "print(\"Returned {}s of data at {}Hz\".format(ts.duration, ts.sample_rate))"
   ]
  },
  {
   "cell_type": "markdown",
   "metadata": {},
   "source": [
    "#### Directly Reading gravitational-wave Frame Files\n",
    "\n",
    "If you store LIGO data on your own computer then you can directly read in the data as follows."
   ]
  },
  {
   "cell_type": "code",
   "execution_count": 20,
   "metadata": {},
   "outputs": [
    {
     "name": "stdout",
     "output_type": "stream",
     "text": [
      "  % Total    % Received % Xferd  Average Speed   Time    Time     Time  Current\n",
      "                                 Dload  Upload   Total   Spent    Left  Speed\n",
      "100   266  100   266    0     0    304      0 --:--:-- --:--:-- --:--:--   304\n",
      "100 1004k  100 1004k    0     0   329k      0  0:00:03  0:00:03 --:--:--  579k\n"
     ]
    }
   ],
   "source": [
    "# We'll first download some data for this demonstration\n",
    "!curl -O -J -L https://losc.ligo.org/s/events/LVT151012/H-H1_LOSC_4_V2-1128678884-32.gwf"
   ]
  },
  {
   "cell_type": "code",
   "execution_count": 22,
   "metadata": {},
   "outputs": [],
   "source": [
    "from pycbc.frame import read_frame\n",
    "\n",
    "# Read the data directly from the Gravitational-Wave Frame (GWF) file.\n",
    "file_name = \"H-H1_LOSC_4_V2-1128678884-32.gwf\"\n",
    "\n",
    "# LOSC bulk data typically uses the same convention for internal channels names\n",
    "# Strain is typically IFO:LOSC-STRAIN, where IFO can be H1/L1/V1.\n",
    "channel_name = \"H1:LOSC-STRAIN\"\n",
    "\n",
    "start = 1128678884\n",
    "end = start + 32\n",
    "\n",
    "ts = read_frame(file_name, channel_name, start, end)"
   ]
  },
  {
   "cell_type": "code",
   "execution_count": 24,
   "metadata": {},
   "outputs": [
    {
     "name": "stdout",
     "output_type": "stream",
     "text": [
      "Returned 32.0s of data at 4096.0Hz\n"
     ]
    }
   ],
   "source": [
    "print(\"Returned {}s of data at {}Hz\".format(ts.duration, ts.sample_rate))"
   ]
  },
  {
   "cell_type": "code",
   "execution_count": null,
   "metadata": {},
   "outputs": [],
   "source": []
  }
 ],
 "metadata": {
  "kernelspec": {
   "display_name": "Python 3 (ipykernel)",
   "language": "python",
   "name": "python3"
  },
  "language_info": {
   "codemirror_mode": {
    "name": "ipython",
    "version": 3
   },
   "file_extension": ".py",
   "mimetype": "text/x-python",
   "name": "python",
   "nbconvert_exporter": "python",
   "pygments_lexer": "ipython3",
   "version": "3.9.12"
  }
 },
 "nbformat": 4,
 "nbformat_minor": 2
}
